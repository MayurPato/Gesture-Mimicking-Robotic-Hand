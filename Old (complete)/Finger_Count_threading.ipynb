{
 "cells": [
  {
   "cell_type": "code",
   "execution_count": 1,
   "id": "57e0a68c",
   "metadata": {},
   "outputs": [
    {
     "name": "stderr",
     "output_type": "stream",
     "text": [
      "INFO: Created TensorFlow Lite XNNPACK delegate for CPU.\n"
     ]
    }
   ],
   "source": [
    "import cv2\n",
    "from collections import Counter\n",
    "from module3a import findnameoflandmark,findpostion\n",
    "import threading\n",
    "import math\n",
    "import requests"
   ]
  },
  {
   "cell_type": "code",
   "execution_count": 8,
   "id": "2d52f9db",
   "metadata": {},
   "outputs": [],
   "source": [
    "def req(m):\n",
    "    requests.get(\"http://blr1.blynk.cloud/external/api/update?token=j5cUH0x-s81V-s-N4ZndOlLLTSdJKSBH&v9=\" + m)\n",
    "    #print(\"success\")\n",
    "\n",
    "def send(m):\n",
    "    threading.Thread(target = req, args=(m), daemon=True).start()"
   ]
  },
  {
   "cell_type": "code",
   "execution_count": null,
   "id": "577160dc",
   "metadata": {},
   "outputs": [],
   "source": [
    "cap = cv2.VideoCapture(0)\n",
    "tip=[8,12,16,20]\n",
    "tipname=[8,12,16,20]\n",
    "fingers=[]\n",
    "finger=[]\n",
    "\n",
    "while True:\n",
    "     ret, frame = cap.read() \n",
    "     #flipped = cv2.flip(frame, flipCode = -1)\n",
    "    \n",
    "     frame1 = cv2.resize(frame, (640, 480))\n",
    "     a = findpostion(frame1)\n",
    "     b = findnameoflandmark(frame1)\n",
    "\n",
    "     if len(b and a)!=0:\n",
    "        finger = []\n",
    "        if a[0][1:] < a[4][1:]: \n",
    "           finger.append(1)\n",
    "           #print (b[4])\n",
    "          \n",
    "        else:\n",
    "           finger.append(0)   \n",
    "        \n",
    "        fingers=[] \n",
    "        for id in range(0,4):\n",
    "            if a[tip[id]][2:] < a[tip[id]-2][2:]:\n",
    "               #print(\"which fing: \" + b[tipname[id]])\n",
    "\n",
    "               fingers.append(1)\n",
    "    \n",
    "            else:\n",
    "               fingers.append(0)\n",
    "     #print(fingers)\n",
    "     #dec = fingers[0] + fingers[1] + fingers[2] + fingers[3]\n",
    "     x = fingers + finger\n",
    "     c = Counter(x)\n",
    "     up = c[1]\n",
    "     down = c[0]\n",
    "     if up == 5 and down == 0:\n",
    "        m = \"5\"\n",
    "     elif up == 1 and down == 4:\n",
    "        m = \"1\"\n",
    "        print(\"1 finger is up.\")\n",
    "     elif up == 2 and down == 3:\n",
    "        m = \"2\"\n",
    "        print(\"2 fingers are up.\")\n",
    "     elif up == 3 and down == 2:\n",
    "        m = \"3\"\n",
    "        print(\"3 fingers are up.\")\n",
    "     elif up == 4 and down == 1:\n",
    "        m = \"4\"\n",
    "        print(\"4 fingers are up.\")\n",
    "     else:\n",
    "        m = \"0\"\n",
    "        print(\"No finger is up.\")\n",
    "     send(m)\n",
    "     #requests.get(\"http://blr1.blynk.cloud/external/api/update?token=j5cUH0x-s81V-s-N4ZndOlLLTSdJKSBH&v9=\" + m)\n",
    "     cv2.imshow(\"Frame\", frame1)\n",
    "     if cv2.waitKey(1) & 0xFF == 27:\n",
    "        break\n",
    "cap.release()\n",
    "cv2.destroyAllWindows()\n",
    "cv2.waitKey(1)"
   ]
  }
 ],
 "metadata": {
  "kernelspec": {
   "display_name": "Python 3 (ipykernel)",
   "language": "python",
   "name": "python3"
  },
  "language_info": {
   "codemirror_mode": {
    "name": "ipython",
    "version": 3
   },
   "file_extension": ".py",
   "mimetype": "text/x-python",
   "name": "python",
   "nbconvert_exporter": "python",
   "pygments_lexer": "ipython3",
   "version": "3.11.3"
  }
 },
 "nbformat": 4,
 "nbformat_minor": 5
}
